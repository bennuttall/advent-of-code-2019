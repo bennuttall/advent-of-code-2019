{
 "cells": [
  {
   "cell_type": "code",
   "execution_count": 1,
   "metadata": {},
   "outputs": [],
   "source": [
    "def process_intcode(data, input_value=None):\n",
    "    output_values = []\n",
    "    i = 0\n",
    "    while True:\n",
    "        initial = str(data[i]).rjust(5, '0')\n",
    "        a, b, c, *opcode = initial\n",
    "        opcode = int(''.join(opcode))\n",
    "        if opcode == 99:\n",
    "            if input_value is None:\n",
    "                return data\n",
    "            return output_values[-1]\n",
    "        p1 = i+1 if c == '1' else data[i+1]\n",
    "        p2 = i+2 if b == '1' else data[i+2]\n",
    "        p3 = i+3 if a == '1' else data[i+3]\n",
    "        i += 2\n",
    "        if opcode == 3:\n",
    "            data[p1] = input_value\n",
    "        elif opcode == 4:\n",
    "            output_values.append(data[p1])\n",
    "        else:\n",
    "            if opcode == 1:\n",
    "                data[p3] = data[p1] + data[p2]\n",
    "            elif opcode == 2:\n",
    "                data[p3] = data[p1] * data[p2]\n",
    "            i += 2\n",
    "        \n",
    "sample_data = [1002, 4, 3, 4, 33]\n",
    "assert (r := process_intcode(sample_data)) == [1002, 4, 3, 4, 99], r\n",
    "\n",
    "sample_data = [1101, 100, -1, 4, 0]\n",
    "assert process_intcode(sample_data) == [1101, 100, -1, 4, 99]"
   ]
  },
  {
   "cell_type": "code",
   "execution_count": 2,
   "metadata": {},
   "outputs": [],
   "source": [
    "with open('input') as f:\n",
    "    data = [int(d) for d in f.read().split(',')]"
   ]
  },
  {
   "cell_type": "code",
   "execution_count": 3,
   "metadata": {},
   "outputs": [
    {
     "name": "stdout",
     "output_type": "stream",
     "text": [
      "Part 1:\n"
     ]
    },
    {
     "data": {
      "text/plain": [
       "13818007"
      ]
     },
     "execution_count": 3,
     "metadata": {},
     "output_type": "execute_result"
    }
   ],
   "source": [
    "print(\"Part 1:\")\n",
    "process_intcode(data.copy(), 1)"
   ]
  },
  {
   "cell_type": "code",
   "execution_count": 4,
   "metadata": {},
   "outputs": [],
   "source": [
    "def process_intcode_2(data, input_value=None):\n",
    "    output_values = []\n",
    "    i = 0\n",
    "    while True:\n",
    "        initial = str(data[i]).rjust(5, '0')\n",
    "        a, b, c, *opcode = initial\n",
    "        opcode = int(''.join(opcode))\n",
    "        assert opcode in (1, 2, 3, 4, 5, 6, 7, 8, 99), opcode\n",
    "        if opcode == 99:\n",
    "            if input_value is None:\n",
    "                return data\n",
    "            return output_values[-1]\n",
    "        p1 = i+1 if c == '1' else data[i+1]\n",
    "        p2 = i+2 if b == '1' else data[i+2]\n",
    "        try:\n",
    "            p3 = i+3 if a == '1' else data[i+3]\n",
    "        except IndexError:\n",
    "            p3 = None\n",
    "        if opcode == 1:\n",
    "            data[p3] = data[p1] + data[p2]\n",
    "            i += 4\n",
    "        elif opcode == 2:\n",
    "            data[p3] = data[p1] * data[p2]\n",
    "            i += 4\n",
    "        elif opcode == 3:\n",
    "            data[p1] = input_value\n",
    "            i += 2\n",
    "        elif opcode == 4:\n",
    "            output_values.append(data[p1])\n",
    "            i += 2\n",
    "        elif opcode == 5:\n",
    "            if data[p1] != 0:\n",
    "                i = data[p2]\n",
    "            else:\n",
    "                i += 3\n",
    "        elif opcode == 6:\n",
    "            if data[p1] == 0:\n",
    "                i = data[p2]\n",
    "            else:\n",
    "                i += 3\n",
    "        elif opcode == 7:\n",
    "            data[p3] = 1 if data[p1] < data[p2] else 0\n",
    "            i += 4\n",
    "        elif opcode == 8:\n",
    "            data[p3] = 1 if data[p1] == data[p2] else 0\n",
    "            i += 4\n",
    "\n",
    "sample_data = [3,9,8,9,10,9,4,9,99,-1,8]\n",
    "assert (r := process_intcode_2(sample_data.copy(), 0)) == 0, r\n",
    "assert (r := process_intcode_2(sample_data.copy(), 8)) == 1, r\n",
    "\n",
    "sample_data = [3,9,7,9,10,9,4,9,99,-1,8]\n",
    "assert (r := process_intcode_2(sample_data.copy(), 0)) == 1, r\n",
    "assert (r := process_intcode_2(sample_data.copy(), 9)) == 0, r\n",
    "\n",
    "sample_data = [3,3,1108,-1,8,3,4,3,99]\n",
    "assert (r := process_intcode_2(sample_data.copy(), 0)) == 0, r\n",
    "assert (r := process_intcode_2(sample_data.copy(), 8)) == 1, r\n",
    "\n",
    "sample_data = [3,3,1107,-1,8,3,4,3,99]\n",
    "assert (r := process_intcode_2(sample_data.copy(), 0)) == 1, r\n",
    "assert (r := process_intcode_2(sample_data.copy(), 9)) == 0, r"
   ]
  },
  {
   "cell_type": "code",
   "execution_count": 5,
   "metadata": {},
   "outputs": [],
   "source": [
    "sample_data = [3,12,6,12,15,1,13,14,13,4,13,99,-1,0,1,9]\n",
    "assert (r := process_intcode_2(sample_data.copy(), 0)) == 0, r\n",
    "assert (r := process_intcode_2(sample_data.copy(), 1)) == 1, r\n",
    "\n",
    "sample_data = [3,3,1105,-1,9,1101,0,0,12,4,12,99,1]\n",
    "assert (r := process_intcode_2(sample_data.copy(), 0)) == 0, r\n",
    "assert (r := process_intcode_2(sample_data.copy(), 1)) == 1, r"
   ]
  },
  {
   "cell_type": "code",
   "execution_count": 6,
   "metadata": {},
   "outputs": [],
   "source": [
    "sample_data = [3,21,1008,21,8,20,1005,20,22,107,8,21,20,1006,20,31,1106,0,36,98,0,0,1002,21,125,20,4,20,1105,1,46,104,999,1105,1,46,1101,1000,1,20,4,20,1105,1,46,98,99]\n",
    "assert (r := process_intcode_2(sample_data.copy(), 7)) == 999, r\n",
    "assert (r := process_intcode_2(sample_data.copy(), 8)) == 1000, r\n",
    "assert (r := process_intcode_2(sample_data.copy(), 9)) == 1001, r"
   ]
  },
  {
   "cell_type": "code",
   "execution_count": 7,
   "metadata": {},
   "outputs": [
    {
     "name": "stdout",
     "output_type": "stream",
     "text": [
      "Part 2:\n"
     ]
    },
    {
     "data": {
      "text/plain": [
       "3176266"
      ]
     },
     "execution_count": 7,
     "metadata": {},
     "output_type": "execute_result"
    }
   ],
   "source": [
    "print(\"Part 2:\")\n",
    "process_intcode_2(data.copy(), 5)"
   ]
  }
 ],
 "metadata": {
  "kernelspec": {
   "display_name": "Python 3",
   "language": "python",
   "name": "python3"
  },
  "language_info": {
   "codemirror_mode": {
    "name": "ipython",
    "version": 3
   },
   "file_extension": ".py",
   "mimetype": "text/x-python",
   "name": "python",
   "nbconvert_exporter": "python",
   "pygments_lexer": "ipython3",
   "version": "3.10.0"
  }
 },
 "nbformat": 4,
 "nbformat_minor": 2
}
