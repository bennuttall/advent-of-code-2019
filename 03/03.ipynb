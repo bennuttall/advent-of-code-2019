{
 "cells": [
  {
   "cell_type": "code",
   "execution_count": 42,
   "metadata": {},
   "outputs": [],
   "source": [
    "def step(pos, d):\n",
    "    delta = {\n",
    "        'U': (0, 1),\n",
    "        'D': (0, -1),\n",
    "        'L': (-1, 0),\n",
    "        'R': (1, 0),\n",
    "    }[d]\n",
    "    return (pos[0] + delta[0], pos[1] + delta[1])\n",
    "\n",
    "assert step((0, 0), 'U') == (0, 1)\n",
    "assert step((1, 1), 'D') == (1, 0)\n",
    "assert step((2, 1), 'L') == (1, 1)\n",
    "assert step((3, 3), 'R') == (4, 3)"
   ]
  },
  {
   "cell_type": "code",
   "execution_count": 26,
   "metadata": {},
   "outputs": [],
   "source": [
    "def calc_path(instructions):\n",
    "    pos = (0, 0)\n",
    "    visited = set()\n",
    "    for instruction in instructions:\n",
    "        d = instruction[0]\n",
    "        n = int(instruction[1:])\n",
    "        for i in range(n):\n",
    "            pos = step(pos, d)\n",
    "            visited.add(pos)\n",
    "    return visited\n",
    "\n",
    "path_1 = calc_path(['R8', 'U5', 'L5', 'D3'])\n",
    "visited_1 = [(1, 0), (8, 0), (8, 5), (3, 5), (3, 2)]\n",
    "assert all(pos in path_1 for pos in visited_1)\n",
    "\n",
    "path_2 = calc_path(['U7', 'R6', 'D4', 'L4'])\n",
    "visited_2 = [(0, 1), (0, 7), (6, 7), (6, 3), (2, 3)]\n",
    "assert all(pos in path_2 for pos in visited_2)\n",
    "\n",
    "assert path_1.intersection(path_2) == {(3, 3), (6, 5)}"
   ]
  },
  {
   "cell_type": "code",
   "execution_count": 33,
   "metadata": {},
   "outputs": [],
   "source": [
    "def measure_closest_intersection(path_1, path_2):\n",
    "    intersections = path_1.intersection(path_2)\n",
    "    distances = [abs(pos[0]) + abs(pos[1]) for pos in intersections]\n",
    "    return min(distances)\n",
    "\n",
    "path_1 = calc_path(\"R8,U5,L5,D3\".split(','))\n",
    "path_2 = calc_path(\"U7,R6,D4,L4\".split(','))\n",
    "assert measure_closest_intersection(path_1, path_2) == 6\n",
    "\n",
    "path_1 = calc_path(\"R75,D30,R83,U83,L12,D49,R71,U7,L72\".split(','))\n",
    "path_2 = calc_path(\"U62,R66,U55,R34,D71,R55,D58,R83\".split(','))\n",
    "assert (d := measure_closest_intersection(path_1, path_2)) == 159, d\n",
    "\n",
    "path_1 = calc_path(\"R98,U47,R26,D63,R33,U87,L62,D20,R33,U53,R51\".split(','))\n",
    "path_2 = calc_path(\"U98,R91,D20,R16,D67,R40,U7,R15,U6,R7\".split(','))\n",
    "assert (d := measure_closest_intersection(path_1, path_2)) == 135, d"
   ]
  },
  {
   "cell_type": "code",
   "execution_count": 68,
   "metadata": {},
   "outputs": [],
   "source": [
    "with open('input') as f:\n",
    "    paths = [row.split(',') for row in f]\n",
    "    \n",
    "assert len(paths) == 2"
   ]
  },
  {
   "cell_type": "code",
   "execution_count": 67,
   "metadata": {},
   "outputs": [
    {
     "name": "stdout",
     "output_type": "stream",
     "text": [
      "part 1:\n"
     ]
    },
    {
     "data": {
      "text/plain": [
       "225"
      ]
     },
     "execution_count": 67,
     "metadata": {},
     "output_type": "execute_result"
    }
   ],
   "source": [
    "print(\"part 1:\")\n",
    "path_1 = calc_path(paths[0])\n",
    "path_2 = calc_path(paths[1])\n",
    "measure_closest_intersection(path_1, path_2)"
   ]
  },
  {
   "cell_type": "code",
   "execution_count": 77,
   "metadata": {},
   "outputs": [],
   "source": [
    "def calc_path_steps(instructions):\n",
    "    pos = (0, 0)\n",
    "    visited = {}\n",
    "    step_num = 0\n",
    "    for instruction in instructions:\n",
    "        d = instruction[0]\n",
    "        n = int(instruction[1:])\n",
    "        for i in range(n):\n",
    "            pos = step(pos, d)\n",
    "            step_num += 1\n",
    "            if pos not in visited:\n",
    "                visited[pos] = step_num\n",
    "    return visited\n",
    "\n",
    "path_1 = calc_path_steps(['R8', 'U5', 'L5', 'D3'])\n",
    "assert path_1[(1, 0)] == 1"
   ]
  },
  {
   "cell_type": "code",
   "execution_count": 80,
   "metadata": {},
   "outputs": [],
   "source": [
    "def measure_closest_intersection_by_steps(path_1, path_2):\n",
    "    path_1_positions = set(path_1.keys())\n",
    "    path_2_positions = set(path_2.keys())\n",
    "    intersections = path_1_positions.intersection(path_2_positions)\n",
    "    distances = {path_1[pos] + path_2[pos] for pos in intersections}\n",
    "    return min(distances)\n",
    "\n",
    "path_1 = calc_path_steps(\"R8,U5,L5,D3\".split(','))\n",
    "path_2 = calc_path_steps(\"U7,R6,D4,L4\".split(','))\n",
    "assert (d := measure_closest_intersection_by_steps(path_1, path_2)) == 30, d\n",
    "\n",
    "path_1 = calc_path_steps(\"R75,D30,R83,U83,L12,D49,R71,U7,L72\".split(','))\n",
    "path_2 = calc_path_steps(\"U62,R66,U55,R34,D71,R55,D58,R83\".split(','))\n",
    "assert (d := measure_closest_intersection_by_steps(path_1, path_2)) == 610, d\n",
    "\n",
    "path_1 = calc_path_steps(\"R98,U47,R26,D63,R33,U87,L62,D20,R33,U53,R51\".split(','))\n",
    "path_2 = calc_path_steps(\"U98,R91,D20,R16,D67,R40,U7,R15,U6,R7\".split(','))\n",
    "assert (d := measure_closest_intersection_by_steps(path_1, path_2)) == 410, d"
   ]
  },
  {
   "cell_type": "code",
   "execution_count": 81,
   "metadata": {},
   "outputs": [
    {
     "name": "stdout",
     "output_type": "stream",
     "text": [
      "part 2:\n"
     ]
    },
    {
     "data": {
      "text/plain": [
       "35194"
      ]
     },
     "execution_count": 81,
     "metadata": {},
     "output_type": "execute_result"
    }
   ],
   "source": [
    "print(\"part 2:\")\n",
    "path_1 = calc_path_steps(paths[0])\n",
    "path_2 = calc_path_steps(paths[1])\n",
    "measure_closest_intersection_by_steps(path_1, path_2)"
   ]
  },
  {
   "cell_type": "code",
   "execution_count": null,
   "metadata": {},
   "outputs": [],
   "source": []
  }
 ],
 "metadata": {
  "kernelspec": {
   "display_name": "Python 3",
   "language": "python",
   "name": "python3"
  },
  "language_info": {
   "codemirror_mode": {
    "name": "ipython",
    "version": 3
   },
   "file_extension": ".py",
   "mimetype": "text/x-python",
   "name": "python",
   "nbconvert_exporter": "python",
   "pygments_lexer": "ipython3",
   "version": "3.8.0"
  }
 },
 "nbformat": 4,
 "nbformat_minor": 2
}
