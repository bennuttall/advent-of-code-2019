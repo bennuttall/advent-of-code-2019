{
 "cells": [
  {
   "cell_type": "code",
   "execution_count": 1,
   "id": "ef13f1d9",
   "metadata": {},
   "outputs": [],
   "source": [
    "with open('input') as f:\n",
    "    intcode = [int(i) for i in f.read().split(',')]"
   ]
  },
  {
   "cell_type": "code",
   "execution_count": 2,
   "id": "6de00591",
   "metadata": {},
   "outputs": [],
   "source": [
    "def process_intcode(intcode, pos):\n",
    "    intcode = {i: instruction for i, instruction in enumerate(intcode)}\n",
    "    input_values = (i for i in pos)\n",
    "    relative_base = 0\n",
    "    i = 0\n",
    "    while True:\n",
    "        initial = str(intcode.get(i, 0)).rjust(5, '0')\n",
    "        a, b, c, *opcode = initial\n",
    "        opcode = int(''.join(opcode))\n",
    "        assert opcode in (1, 2, 3, 4, 5, 6, 7, 8, 9, 99), opcode\n",
    "        \n",
    "        if opcode == 99:\n",
    "            return\n",
    "\n",
    "        if c == '0':\n",
    "            p1 = intcode.get(i + 1, 0)\n",
    "        elif c == '1':\n",
    "            p1 = i + 1 \n",
    "        elif c == '2':\n",
    "            p1 = intcode.get(i + 1, 0) + relative_base\n",
    "\n",
    "        if b == '0':\n",
    "            p2 = intcode.get(i + 2, 0)\n",
    "        elif b == '1':\n",
    "            p2 = i + 2\n",
    "        elif b == '2':\n",
    "            p2 = intcode.get(i + 2, 0) + relative_base\n",
    "\n",
    "        if a == '0':\n",
    "            p3 = intcode.get(i + 3, 0)\n",
    "        elif a == '1':\n",
    "            p3 = i + 3\n",
    "        elif a == '2':\n",
    "            p3 = intcode.get(i + 3, 0) + relative_base\n",
    "\n",
    "        if opcode == 1:\n",
    "            intcode[p3] = intcode.get(p1, 0) + intcode.get(p2, 0)\n",
    "            i += 4\n",
    "        elif opcode == 2:\n",
    "            intcode[p3] = intcode.get(p1, 0) * intcode.get(p2, 0)\n",
    "            i += 4\n",
    "        elif opcode == 3:\n",
    "            intcode[p1] = next(input_values)\n",
    "            i += 2\n",
    "        elif opcode == 4:\n",
    "            return intcode.get(p1, 0)\n",
    "            i += 2\n",
    "        elif opcode == 5:\n",
    "            if intcode.get(p1, 0) != 0:\n",
    "                i = intcode.get(p2, 0)\n",
    "            else:\n",
    "                i += 3\n",
    "        elif opcode == 6:\n",
    "            if intcode.get(p1, 0) == 0:\n",
    "                i = intcode.get(p2, 0)\n",
    "            else:\n",
    "                i += 3\n",
    "        elif opcode == 7:\n",
    "            intcode[p3] = 1 if intcode.get(p1, 0) < intcode.get(p2, 0) else 0\n",
    "            i += 4\n",
    "        elif opcode == 8:\n",
    "            intcode[p3] = 1 if intcode.get(p1, 0) == intcode.get(p2, 0) else 0\n",
    "            i += 4\n",
    "        elif opcode == 9:\n",
    "            relative_base += intcode.get(p1, 0)\n",
    "            i += 2"
   ]
  },
  {
   "cell_type": "code",
   "execution_count": 3,
   "id": "5a0fff9a",
   "metadata": {},
   "outputs": [],
   "source": [
    "grid = set()\n",
    "for y in range(50):\n",
    "    for x in range(50):\n",
    "        if process_intcode(intcode, (x, y)):\n",
    "            grid.add((x, y))"
   ]
  },
  {
   "cell_type": "code",
   "execution_count": 4,
   "id": "2c18e084",
   "metadata": {},
   "outputs": [
    {
     "name": "stdout",
     "output_type": "stream",
     "text": [
      "Part 1:\n",
      "215\n"
     ]
    }
   ],
   "source": [
    "print(\"Part 1:\")\n",
    "print(len(grid))"
   ]
  },
  {
   "cell_type": "code",
   "execution_count": 5,
   "id": "d32823e7",
   "metadata": {
    "scrolled": false
   },
   "outputs": [],
   "source": [
    "y = max(y for x, y in grid)\n",
    "min_x = min(x for x, y2 in grid if y2 == y)\n",
    "max_x = max(x for x, y2 in grid if y2 == y)\n",
    "edges = {y: set(range(min_x, max_x + 1))}"
   ]
  },
  {
   "cell_type": "code",
   "execution_count": 6,
   "id": "ae071a6d",
   "metadata": {},
   "outputs": [],
   "source": [
    "while True:\n",
    "    y += 1\n",
    "    x = min(edges[y - 1])\n",
    "    while process_intcode(intcode, (x, y)) == 0:\n",
    "        x += 1\n",
    "    min_x = x\n",
    "    x = max(edges[y - 1])\n",
    "    while process_intcode(intcode, (x, y)) == 1:\n",
    "        x += 1\n",
    "    max_x = x - 1\n",
    "    edges[y] = set(range(min_x, max_x + 1))\n",
    "    if y - 100 in edges:\n",
    "        if len(edges[y] & edges[y - 99]) >= 100:\n",
    "            break"
   ]
  },
  {
   "cell_type": "code",
   "execution_count": 7,
   "id": "853f7507",
   "metadata": {},
   "outputs": [
    {
     "name": "stdout",
     "output_type": "stream",
     "text": [
      "Part 2:\n",
      "7720975\n"
     ]
    }
   ],
   "source": [
    "print(\"Part 2:\")\n",
    "print(min_x * 10_000 + y - 99)"
   ]
  }
 ],
 "metadata": {
  "kernelspec": {
   "display_name": "Python 3",
   "language": "python",
   "name": "python3"
  },
  "language_info": {
   "codemirror_mode": {
    "name": "ipython",
    "version": 3
   },
   "file_extension": ".py",
   "mimetype": "text/x-python",
   "name": "python",
   "nbconvert_exporter": "python",
   "pygments_lexer": "ipython3",
   "version": "3.10.0"
  }
 },
 "nbformat": 4,
 "nbformat_minor": 5
}
