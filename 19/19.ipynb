{
 "cells": [
  {
   "cell_type": "code",
   "execution_count": 1,
   "id": "ef13f1d9",
   "metadata": {},
   "outputs": [],
   "source": [
    "with open('input') as f:\n",
    "    intcode = [int(i) for i in f.read().split(',')]"
   ]
  },
  {
   "cell_type": "code",
   "execution_count": 2,
   "id": "6de00591",
   "metadata": {},
   "outputs": [],
   "source": [
    "def process_intcode(intcode, pos):\n",
    "    intcode = {i: instruction for i, instruction in enumerate(intcode)}\n",
    "    input_values = (i for i in pos)\n",
    "    relative_base = 0\n",
    "    i = 0\n",
    "    while True:\n",
    "        initial = str(intcode.get(i, 0)).rjust(5, '0')\n",
    "        a, b, c, *opcode = initial\n",
    "        opcode = int(''.join(opcode))\n",
    "        assert opcode in (1, 2, 3, 4, 5, 6, 7, 8, 9, 99), opcode\n",
    "        \n",
    "        if opcode == 99:\n",
    "            return\n",
    "\n",
    "        if c == '0':\n",
    "            p1 = intcode.get(i + 1, 0)\n",
    "        elif c == '1':\n",
    "            p1 = i + 1 \n",
    "        elif c == '2':\n",
    "            p1 = intcode.get(i + 1, 0) + relative_base\n",
    "\n",
    "        if b == '0':\n",
    "            p2 = intcode.get(i + 2, 0)\n",
    "        elif b == '1':\n",
    "            p2 = i + 2\n",
    "        elif b == '2':\n",
    "            p2 = intcode.get(i + 2, 0) + relative_base\n",
    "\n",
    "        if a == '0':\n",
    "            p3 = intcode.get(i + 3, 0)\n",
    "        elif a == '1':\n",
    "            p3 = i + 3\n",
    "        elif a == '2':\n",
    "            p3 = intcode.get(i + 3, 0) + relative_base\n",
    "\n",
    "        if opcode == 1:\n",
    "            intcode[p3] = intcode.get(p1, 0) + intcode.get(p2, 0)\n",
    "            i += 4\n",
    "        elif opcode == 2:\n",
    "            intcode[p3] = intcode.get(p1, 0) * intcode.get(p2, 0)\n",
    "            i += 4\n",
    "        elif opcode == 3:\n",
    "            intcode[p1] = next(input_values)\n",
    "            i += 2\n",
    "        elif opcode == 4:\n",
    "            return intcode.get(p1, 0)\n",
    "            i += 2\n",
    "        elif opcode == 5:\n",
    "            if intcode.get(p1, 0) != 0:\n",
    "                i = intcode.get(p2, 0)\n",
    "            else:\n",
    "                i += 3\n",
    "        elif opcode == 6:\n",
    "            if intcode.get(p1, 0) == 0:\n",
    "                i = intcode.get(p2, 0)\n",
    "            else:\n",
    "                i += 3\n",
    "        elif opcode == 7:\n",
    "            intcode[p3] = 1 if intcode.get(p1, 0) < intcode.get(p2, 0) else 0\n",
    "            i += 4\n",
    "        elif opcode == 8:\n",
    "            intcode[p3] = 1 if intcode.get(p1, 0) == intcode.get(p2, 0) else 0\n",
    "            i += 4\n",
    "        elif opcode == 9:\n",
    "            relative_base += intcode.get(p1, 0)\n",
    "            i += 2"
   ]
  },
  {
   "cell_type": "code",
   "execution_count": 3,
   "id": "5a0fff9a",
   "metadata": {},
   "outputs": [],
   "source": [
    "grid = set()\n",
    "for y in range(50):\n",
    "    for x in range(50):\n",
    "        if process_intcode(intcode, (x, y)):\n",
    "            grid.add((x, y))"
   ]
  },
  {
   "cell_type": "code",
   "execution_count": 4,
   "id": "2c18e084",
   "metadata": {},
   "outputs": [
    {
     "name": "stdout",
     "output_type": "stream",
     "text": [
      "Part 1:\n",
      "215\n"
     ]
    }
   ],
   "source": [
    "print(\"Part 1:\")\n",
    "print(len(grid))"
   ]
  },
  {
   "cell_type": "code",
   "execution_count": 17,
   "id": "d32823e7",
   "metadata": {
    "scrolled": false
   },
   "outputs": [
    {
     "data": {
      "text/plain": [
       "{49: {36, 37, 38, 39, 40, 41, 42, 43}}"
      ]
     },
     "execution_count": 17,
     "metadata": {},
     "output_type": "execute_result"
    }
   ],
   "source": [
    "y = max(y for x, y in grid)\n",
    "min_x = min(x for x, y2 in grid if y2 == y)\n",
    "max_x = max(x for x, y2 in grid if y2 == y)\n",
    "edges = {y: set(range(min_x, max_x + 1))}\n",
    "edges"
   ]
  },
  {
   "cell_type": "code",
   "execution_count": 18,
   "id": "514420dd",
   "metadata": {},
   "outputs": [
    {
     "name": "stdout",
     "output_type": "stream",
     "text": [
      "1074 {772, 773, 774, 775, 776, 777, 778, 779, 780, 781, 782, 783, 784, 785, 786, 787, 788, 789, 790, 791, 792, 793, 794, 795, 796, 797, 798, 799, 800, 801, 802, 803, 804, 805, 806, 807, 808, 809, 810, 811, 812, 813, 814, 815, 816, 817, 818, 819, 820, 821, 822, 823, 824, 825, 826, 827, 828, 829, 830, 831, 832, 833, 834, 835, 836, 837, 838, 839, 840, 841, 842, 843, 844, 845, 846, 847, 848, 849, 850, 851, 852, 853, 854, 855, 856, 857, 858, 859, 860, 861, 862, 863, 864, 865, 866, 867, 868, 869, 870, 871}\n"
     ]
    }
   ],
   "source": [
    "while True:\n",
    "    y += 1\n",
    "    x = min(edges[y - 1])\n",
    "    while process_intcode(intcode, (x, y)) == 0:\n",
    "        x += 1\n",
    "    min_x = x\n",
    "    x = max(edges[y - 1])\n",
    "    while process_intcode(intcode, (x, y)) == 1:\n",
    "        x += 1\n",
    "    max_x = x - 1\n",
    "    edges[y] = set(range(min_x, max_x + 1))\n",
    "    if y - 100 in edges:\n",
    "        if len(edges[y] & edges[y - 99]) >= 100:\n",
    "            print(y, edges[y] & edges[y - 99])\n",
    "            break"
   ]
  },
  {
   "cell_type": "code",
   "execution_count": 19,
   "id": "d9b7d198",
   "metadata": {},
   "outputs": [
    {
     "data": {
      "text/plain": [
       "772"
      ]
     },
     "execution_count": 19,
     "metadata": {},
     "output_type": "execute_result"
    }
   ],
   "source": [
    "min_x"
   ]
  },
  {
   "cell_type": "code",
   "execution_count": 21,
   "id": "b3a21647",
   "metadata": {},
   "outputs": [
    {
     "data": {
      "text/plain": [
       "7720975"
      ]
     },
     "execution_count": 21,
     "metadata": {},
     "output_type": "execute_result"
    }
   ],
   "source": [
    "min_x * 10_000 + y-99"
   ]
  },
  {
   "cell_type": "code",
   "execution_count": 13,
   "id": "4c9840a7",
   "metadata": {},
   "outputs": [
    {
     "name": "stdout",
     "output_type": "stream",
     "text": [
      "{774, 775, 776, 777, 778, 779, 780, 781, 782, 783, 784, 785, 786, 787, 788, 789, 790, 791, 792, 793, 794, 795, 796, 797, 798, 799, 800, 801, 802, 803, 804, 805, 806, 807, 808, 809, 810, 811, 812, 813, 814, 815, 816, 817, 818, 819, 820, 821, 822, 823, 824, 825, 826, 827, 828, 829, 830, 831, 832, 833, 834, 835, 836, 837, 838, 839, 840, 841, 842, 843, 844, 845, 846, 847, 848, 849, 850, 851, 852, 853, 854, 855, 856, 857, 858, 859, 860, 861, 862, 863, 864, 865, 866, 867, 868, 869, 870, 871, 872, 873}\n"
     ]
    }
   ],
   "source": [
    "print(edges[y-99] & edges[y])"
   ]
  },
  {
   "cell_type": "code",
   "execution_count": null,
   "id": "8f4a82d0",
   "metadata": {},
   "outputs": [],
   "source": [
    "edges[y]"
   ]
  },
  {
   "cell_type": "code",
   "execution_count": null,
   "id": "334a3df7",
   "metadata": {},
   "outputs": [],
   "source": [
    "min_x"
   ]
  },
  {
   "cell_type": "code",
   "execution_count": null,
   "id": "5d604346",
   "metadata": {},
   "outputs": [],
   "source": [
    "774 in edges[y-100]"
   ]
  },
  {
   "cell_type": "code",
   "execution_count": null,
   "id": "4ba792d2",
   "metadata": {},
   "outputs": [],
   "source": [
    "774+100 in edges[y-100]"
   ]
  },
  {
   "cell_type": "code",
   "execution_count": null,
   "id": "0535bad8",
   "metadata": {},
   "outputs": [],
   "source": [
    "len(set(edges[y-100]) & set(edges[y]))"
   ]
  },
  {
   "cell_type": "code",
   "execution_count": null,
   "id": "b90870ab",
   "metadata": {},
   "outputs": [],
   "source": [
    "edges[y-1]"
   ]
  },
  {
   "cell_type": "code",
   "execution_count": null,
   "id": "334c9145",
   "metadata": {},
   "outputs": [],
   "source": []
  }
 ],
 "metadata": {
  "kernelspec": {
   "display_name": "Python 3",
   "language": "python",
   "name": "python3"
  },
  "language_info": {
   "codemirror_mode": {
    "name": "ipython",
    "version": 3
   },
   "file_extension": ".py",
   "mimetype": "text/x-python",
   "name": "python",
   "nbconvert_exporter": "python",
   "pygments_lexer": "ipython3",
   "version": "3.10.0"
  }
 },
 "nbformat": 4,
 "nbformat_minor": 5
}
