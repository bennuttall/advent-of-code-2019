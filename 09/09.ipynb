{
 "cells": [
  {
   "cell_type": "code",
   "execution_count": 1,
   "metadata": {},
   "outputs": [],
   "source": [
    "def process_intcode(intcode, input_values=None):\n",
    "    intcode = {i: instruction for i, instruction in enumerate(intcode)}\n",
    "    if input_values:\n",
    "        input_values = (i for i in input_values)\n",
    "    output_values = []\n",
    "    relative_base = 0\n",
    "    i = 0\n",
    "    while True:\n",
    "        initial = str(intcode.get(i, 0)).rjust(5, '0')\n",
    "        a, b, c, *opcode = initial\n",
    "        opcode = int(''.join(opcode))\n",
    "        assert opcode in (1, 2, 3, 4, 5, 6, 7, 8, 9, 99), opcode\n",
    "        if opcode == 99:\n",
    "            return output_values\n",
    "        \n",
    "        if c == '0':\n",
    "            p1 = intcode.get(i + 1, 0)\n",
    "        elif c == '1':\n",
    "            p1 = i + 1 \n",
    "        elif c == '2':\n",
    "            p1 = intcode.get(i + 1, 0) + relative_base\n",
    "            \n",
    "        if b == '0':\n",
    "            p2 = intcode.get(i + 2, 0)\n",
    "        elif b == '1':\n",
    "            p2 = i + 2\n",
    "        elif b == '2':\n",
    "            p2 = intcode.get(i + 2, 0) + relative_base\n",
    "            \n",
    "        if a == '0':\n",
    "            p3 = intcode.get(i + 3, 0)\n",
    "        elif a == '1':\n",
    "            p3 = i + 3\n",
    "        elif a == '2':\n",
    "            p3 = intcode.get(i + 3, 0) + relative_base\n",
    "            \n",
    "        if opcode == 1:\n",
    "            intcode[p3] = intcode.get(p1, 0) + intcode.get(p2, 0)\n",
    "            i += 4\n",
    "        elif opcode == 2:\n",
    "            intcode[p3] = intcode.get(p1, 0) * intcode.get(p2, 0)\n",
    "            i += 4\n",
    "        elif opcode == 3:\n",
    "            intcode[p1] = next(input_values)\n",
    "            i += 2\n",
    "        elif opcode == 4:\n",
    "            output_values.append(intcode.get(p1, 0))\n",
    "            i += 2\n",
    "        elif opcode == 5:\n",
    "            if intcode.get(p1, 0) != 0:\n",
    "                i = intcode.get(p2, 0)\n",
    "            else:\n",
    "                i += 3\n",
    "        elif opcode == 6:\n",
    "            if intcode.get(p1, 0) == 0:\n",
    "                i = intcode.get(p2, 0)\n",
    "            else:\n",
    "                i += 3\n",
    "        elif opcode == 7:\n",
    "            intcode[p3] = 1 if intcode.get(p1, 0) < intcode.get(p2, 0) else 0\n",
    "            i += 4\n",
    "        elif opcode == 8:\n",
    "            intcode[p3] = 1 if intcode.get(p1, 0) == intcode.get(p2, 0) else 0\n",
    "            i += 4\n",
    "        elif opcode == 9:\n",
    "            relative_base += intcode.get(p1, 0)\n",
    "            i += 2\n",
    "\n",
    "test_intcode = [109,1,204,-1,1001,100,1,100,1008,100,16,101,1006,101,0,99]\n",
    "assert (r := process_intcode(test_intcode)) == test_intcode, r\n",
    "test_intcode = [1102,34915192,34915192,7,4,7,99,0]\n",
    "assert (r := len(str(process_intcode(test_intcode)[0]))) == 16, r\n",
    "test_intcode = [104,1125899906842624,99]\n",
    "assert (r := process_intcode(test_intcode)) == [1125899906842624]"
   ]
  },
  {
   "cell_type": "code",
   "execution_count": 2,
   "metadata": {},
   "outputs": [],
   "source": [
    "with open('input') as f:\n",
    "    intcode = [int(d) for d in f.read().split(',')]"
   ]
  },
  {
   "cell_type": "code",
   "execution_count": 3,
   "metadata": {},
   "outputs": [
    {
     "name": "stdout",
     "output_type": "stream",
     "text": [
      "Part 1:\n"
     ]
    },
    {
     "data": {
      "text/plain": [
       "3340912345"
      ]
     },
     "execution_count": 3,
     "metadata": {},
     "output_type": "execute_result"
    }
   ],
   "source": [
    "print(\"Part 1:\")\n",
    "process_intcode(intcode, input_values=[1])[0]"
   ]
  },
  {
   "cell_type": "code",
   "execution_count": 4,
   "metadata": {},
   "outputs": [
    {
     "name": "stdout",
     "output_type": "stream",
     "text": [
      "Part 2:\n"
     ]
    },
    {
     "data": {
      "text/plain": [
       "51754"
      ]
     },
     "execution_count": 4,
     "metadata": {},
     "output_type": "execute_result"
    }
   ],
   "source": [
    "print(\"Part 2:\")\n",
    "process_intcode(intcode, input_values=[2])[0]"
   ]
  }
 ],
 "metadata": {
  "kernelspec": {
   "display_name": "Python 3",
   "language": "python",
   "name": "python3"
  },
  "language_info": {
   "codemirror_mode": {
    "name": "ipython",
    "version": 3
   },
   "file_extension": ".py",
   "mimetype": "text/x-python",
   "name": "python",
   "nbconvert_exporter": "python",
   "pygments_lexer": "ipython3",
   "version": "3.10.0"
  }
 },
 "nbformat": 4,
 "nbformat_minor": 2
}
