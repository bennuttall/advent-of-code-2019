{
 "cells": [
  {
   "cell_type": "code",
   "execution_count": 1,
   "id": "db3d3e9d",
   "metadata": {},
   "outputs": [],
   "source": [
    "with open('input') as f:\n",
    "    data = f.read().strip()"
   ]
  },
  {
   "cell_type": "code",
   "execution_count": 2,
   "id": "353e21cb",
   "metadata": {},
   "outputs": [],
   "source": [
    "REPEAT = (0, 1, 0, -1)"
   ]
  },
  {
   "cell_type": "code",
   "execution_count": 3,
   "id": "6df4ffb0",
   "metadata": {},
   "outputs": [],
   "source": [
    "from itertools import cycle, islice\n",
    "\n",
    "def make_repeat_pattern(i, length):\n",
    "    c = cycle(REPEAT)\n",
    "    pattern = []\n",
    "    while len(pattern) < length + 1: \n",
    "        current = next(c)\n",
    "        pattern += [current for x in range(i)]\n",
    "    start = 1\n",
    "    end = start + length\n",
    "    return pattern[start:end]"
   ]
  },
  {
   "cell_type": "code",
   "execution_count": 4,
   "id": "c95ac0aa",
   "metadata": {},
   "outputs": [],
   "source": [
    "def fft_digit(data, repeat_pattern):\n",
    "    s = 0\n",
    "    for d, p in zip(data, repeat_pattern):\n",
    "        s += int(d) * p\n",
    "    return str(s)[-1]"
   ]
  },
  {
   "cell_type": "code",
   "execution_count": 5,
   "id": "14d655f5",
   "metadata": {},
   "outputs": [],
   "source": [
    "def do_fft(data):\n",
    "    output = ''\n",
    "    for i, d in enumerate(data, start=1):\n",
    "        repeat_pattern = make_repeat_pattern(i, len(data))\n",
    "        output += fft_digit(data, repeat_pattern)\n",
    "    return output"
   ]
  },
  {
   "cell_type": "code",
   "execution_count": 6,
   "id": "86d88436",
   "metadata": {},
   "outputs": [
    {
     "name": "stdout",
     "output_type": "stream",
     "text": [
      "Part 1:\n",
      "22122816\n"
     ]
    }
   ],
   "source": [
    "output = data\n",
    "for i in range(100):\n",
    "    output = do_fft(output)\n",
    "print(\"Part 1:\")\n",
    "print(output[:8])"
   ]
  },
  {
   "cell_type": "code",
   "execution_count": null,
   "id": "77ce938a",
   "metadata": {},
   "outputs": [],
   "source": []
  }
 ],
 "metadata": {
  "kernelspec": {
   "display_name": "Python 3",
   "language": "python",
   "name": "python3"
  },
  "language_info": {
   "codemirror_mode": {
    "name": "ipython",
    "version": 3
   },
   "file_extension": ".py",
   "mimetype": "text/x-python",
   "name": "python",
   "nbconvert_exporter": "python",
   "pygments_lexer": "ipython3",
   "version": "3.10.0"
  }
 },
 "nbformat": 4,
 "nbformat_minor": 5
}
