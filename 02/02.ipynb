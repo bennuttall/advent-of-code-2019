{
 "cells": [
  {
   "cell_type": "code",
   "execution_count": null,
   "metadata": {},
   "outputs": [],
   "source": [
    "with open('input') as f:\n",
    "    data = [int(d) for d in f.read().split(',')]\n",
    "    \n",
    "assert data[0] in (1, 2, 99)"
   ]
  },
  {
   "cell_type": "code",
   "execution_count": null,
   "metadata": {
    "scrolled": true
   },
   "outputs": [],
   "source": [
    "from itertools import zip_longest\n",
    "\n",
    "def grouper(iterable, n, fillvalue=None):\n",
    "    \"Collect data into fixed-length chunks or blocks\"\n",
    "    # grouper('ABCDEFG', 3, 'x') --> ABC DEF Gxx\"\n",
    "    args = [iter(iterable)] * n\n",
    "    return zip_longest(*args, fillvalue=fillvalue)"
   ]
  },
  {
   "cell_type": "code",
   "execution_count": null,
   "metadata": {},
   "outputs": [],
   "source": [
    "def process_intcode(data):\n",
    "    for opcode, a, b, c in grouper(data, 4):\n",
    "        if opcode == 1:\n",
    "            data[c] = data[a] + data[b]\n",
    "        elif opcode == 2:\n",
    "            data[c] = data[a] * data[b]\n",
    "        elif opcode == 99:\n",
    "            return data\n",
    "        \n",
    "sample_data = [1,9,10,3,2,3,11,0,99,30,40,50]\n",
    "assert process_intcode(sample_data) == [3500,9,10,70,2,3,11,0,99,30,40,50]\n",
    "sample_data = [1,0,0,0,99]\n",
    "assert process_intcode(sample_data) == [2,0,0,0,99]\n",
    "sample_data = [2,3,0,3,99]\n",
    "assert process_intcode(sample_data) == [2,3,0,6,99]\n",
    "sample_data = [2,4,4,5,99,0]\n",
    "assert process_intcode(sample_data) == [2,4,4,5,99,9801]\n",
    "sample_data = [1,1,1,4,99,5,6,0,99]\n",
    "assert process_intcode(sample_data) == [30,1,1,4,2,5,6,0,99]"
   ]
  },
  {
   "cell_type": "code",
   "execution_count": null,
   "metadata": {},
   "outputs": [],
   "source": [
    "print(\"part 1:\")\n",
    "new_data = data.copy()\n",
    "new_data[1] = 12\n",
    "new_data[2] = 2\n",
    "processed_data = process_intcode(new_data)\n",
    "processed_data[0]"
   ]
  },
  {
   "cell_type": "code",
   "execution_count": null,
   "metadata": {},
   "outputs": [],
   "source": [
    "intcode = {addr: i for addr, i in enumerate(data)}\n",
    "    \n",
    "assert intcode[0] in (1, 2, 99)"
   ]
  },
  {
   "cell_type": "code",
   "execution_count": 229,
   "metadata": {},
   "outputs": [
    {
     "ename": "IndentationError",
     "evalue": "unexpected unindent (<ipython-input-229-3afb951dba84>, line 17)",
     "output_type": "error",
     "traceback": [
      "\u001b[0;36m  File \u001b[0;32m\"<ipython-input-229-3afb951dba84>\"\u001b[0;36m, line \u001b[0;32m17\u001b[0m\n\u001b[0;31m    def list_to_dict(l):\u001b[0m\n\u001b[0m                        ^\u001b[0m\n\u001b[0;31mIndentationError\u001b[0m\u001b[0;31m:\u001b[0m unexpected unindent\n"
     ]
    }
   ],
   "source": [
    "def process_intcode_dict(intcode):\n",
    "    for i in range(0, len(intcode) + 1, 4):\n",
    "        opcode = intcode[i]\n",
    "        if opcode == 99:\n",
    "            return list(intcode.values())\n",
    "            \n",
    "        a = intcode[i + 1]\n",
    "        b = intcode[i + 2]\n",
    "        c = intcode[i + 3]\n",
    "        \n",
    "        try:\n",
    "            if opcode == 1:\n",
    "                intcode[c] = intcode[a] + intcode[b]\n",
    "            elif opcode == 2:\n",
    "                intcode[c] = intcode[a] * intcode[b]\n",
    "            \n",
    "def list_to_dict(l):\n",
    "    return {n: i for n, i in enumerate(l)}\n",
    "            \n",
    "sample_data = list_to_dict([1,9,10,3,2,3,11,0,99,30,40,50])\n",
    "assert process_intcode_dict(sample_data) == [3500,9,10,70,2,3,11,0,99,30,40,50]\n",
    "sample_data = list_to_dict([1,0,0,0,99])\n",
    "assert process_intcode_dict(sample_data) == [2,0,0,0,99]\n",
    "sample_data = list_to_dict([2,3,0,3,99])\n",
    "assert process_intcode_dict(sample_data) == [2,3,0,6,99]\n",
    "sample_data = list_to_dict([2,4,4,5,99,0])\n",
    "assert process_intcode_dict(sample_data) == [2,4,4,5,99,9801]\n",
    "sample_data = list_to_dict([1,1,1,4,99,5,6,0,99])\n",
    "assert process_intcode_dict(sample_data) == [30,1,1,4,2,5,6,0,99]"
   ]
  },
  {
   "cell_type": "code",
   "execution_count": null,
   "metadata": {},
   "outputs": [],
   "source": [
    "print(\"part 2:\")\n",
    "\n",
    "def match_output(old_intcode, output):\n",
    "    for noun in range(100):\n",
    "        for verb in range(100):\n",
    "            new_intcode = old_intcode.copy()\n",
    "            new_intcode[1] = noun\n",
    "            new_intcode[2] = verb\n",
    "            computed_intcode = process_intcode_dict(new_intcode)\n",
    "            if computed_intcode[0] == output:\n",
    "                return (noun, verb)\n",
    "\n",
    "noun, verb = match_output(intcode, output=19690720)\n",
    "print(100 * noun + verb)"
   ]
  },
  {
   "cell_type": "code",
   "execution_count": null,
   "metadata": {},
   "outputs": [],
   "source": []
  }
 ],
 "metadata": {
  "kernelspec": {
   "display_name": "Python 3",
   "language": "python",
   "name": "python3"
  },
  "language_info": {
   "codemirror_mode": {
    "name": "ipython",
    "version": 3
   },
   "file_extension": ".py",
   "mimetype": "text/x-python",
   "name": "python",
   "nbconvert_exporter": "python",
   "pygments_lexer": "ipython3",
   "version": "3.8.0"
  }
 },
 "nbformat": 4,
 "nbformat_minor": 2
}
