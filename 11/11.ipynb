{
 "cells": [
  {
   "cell_type": "code",
   "execution_count": 1,
   "id": "c1ccdba3",
   "metadata": {},
   "outputs": [
    {
     "data": {
      "text/plain": [
       "[3, 8, 1005, 8, 342, 1106, 0, 11, 0, 0]"
      ]
     },
     "execution_count": 1,
     "metadata": {},
     "output_type": "execute_result"
    }
   ],
   "source": [
    "with open('input') as f:\n",
    "    intcode = [int(n) for n in f.read().split(',')]\n",
    "intcode[:10]"
   ]
  },
  {
   "cell_type": "code",
   "execution_count": 2,
   "id": "07628b34",
   "metadata": {},
   "outputs": [],
   "source": [
    "from collections import defaultdict\n",
    "\n",
    "def process_intcode(intcode, start_white=False):\n",
    "    intcode = {i: instruction for i, instruction in enumerate(intcode)}\n",
    "    map = defaultdict(int)\n",
    "    pos = (0, 0)\n",
    "    visited = {pos}\n",
    "    if start_white:\n",
    "        map[pos] = 1\n",
    "    direction_delta = (0, -1)\n",
    "    output_num = 0\n",
    "    relative_base = 0\n",
    "    i = 0\n",
    "    while True:\n",
    "        initial = str(intcode.get(i, 0)).rjust(5, '0')\n",
    "        a, b, c, *opcode = initial\n",
    "        opcode = int(''.join(opcode))\n",
    "        assert opcode in (1, 2, 3, 4, 5, 6, 7, 8, 9, 99), opcode\n",
    "        if opcode == 99:\n",
    "            return map, visited\n",
    "        \n",
    "        if c == '0':\n",
    "            p1 = intcode.get(i + 1, 0)\n",
    "        elif c == '1':\n",
    "            p1 = i + 1 \n",
    "        elif c == '2':\n",
    "            p1 = intcode.get(i + 1, 0) + relative_base\n",
    "            \n",
    "        if b == '0':\n",
    "            p2 = intcode.get(i + 2, 0)\n",
    "        elif b == '1':\n",
    "            p2 = i + 2\n",
    "        elif b == '2':\n",
    "            p2 = intcode.get(i + 2, 0) + relative_base\n",
    "            \n",
    "        if a == '0':\n",
    "            p3 = intcode.get(i + 3, 0)\n",
    "        elif a == '1':\n",
    "            p3 = i + 3\n",
    "        elif a == '2':\n",
    "            p3 = intcode.get(i + 3, 0) + relative_base\n",
    "            \n",
    "        if opcode == 1:\n",
    "            intcode[p3] = intcode.get(p1, 0) + intcode.get(p2, 0)\n",
    "            i += 4\n",
    "        elif opcode == 2:\n",
    "            intcode[p3] = intcode.get(p1, 0) * intcode.get(p2, 0)\n",
    "            i += 4\n",
    "        elif opcode == 3:\n",
    "            intcode[p1] = map[pos]\n",
    "            i += 2\n",
    "        elif opcode == 4:\n",
    "            output_value = intcode.get(p1, 0)\n",
    "            if output_num == 0:\n",
    "                visited.add(pos)\n",
    "                map[pos] = output_value\n",
    "                output_num = 1\n",
    "            else:\n",
    "                direction_delta = {\n",
    "                    ((0, -1), 0): (-1, 0),\n",
    "                    ((0, -1), 1): (1, 0),\n",
    "                    ((1, 0), 0): (0, -1),\n",
    "                    ((1, 0), 1): (0, 1),\n",
    "                    ((0, 1), 0): (1, 0),\n",
    "                    ((0, 1), 1): (-1, 0),\n",
    "                    ((-1, 0), 0): (0, 1),\n",
    "                    ((-1, 0), 1): (0, -1),\n",
    "                }[(direction_delta, output_value)]\n",
    "                pos = (pos[0] + direction_delta[0], pos[1] + direction_delta[1])\n",
    "                output_num = 0\n",
    "            i += 2\n",
    "        elif opcode == 5:\n",
    "            if intcode.get(p1, 0) != 0:\n",
    "                i = intcode.get(p2, 0)\n",
    "            else:\n",
    "                i += 3\n",
    "        elif opcode == 6:\n",
    "            if intcode.get(p1, 0) == 0:\n",
    "                i = intcode.get(p2, 0)\n",
    "            else:\n",
    "                i += 3\n",
    "        elif opcode == 7:\n",
    "            intcode[p3] = 1 if intcode.get(p1, 0) < intcode.get(p2, 0) else 0\n",
    "            i += 4\n",
    "        elif opcode == 8:\n",
    "            intcode[p3] = 1 if intcode.get(p1, 0) == intcode.get(p2, 0) else 0\n",
    "            i += 4\n",
    "        elif opcode == 9:\n",
    "            relative_base += intcode.get(p1, 0)\n",
    "            i += 2"
   ]
  },
  {
   "cell_type": "code",
   "execution_count": 3,
   "id": "88cd82f5",
   "metadata": {},
   "outputs": [
    {
     "name": "stdout",
     "output_type": "stream",
     "text": [
      "Part 1:\n",
      "2172\n"
     ]
    }
   ],
   "source": [
    "map, visited = process_intcode(intcode)\n",
    "print(\"Part 1:\")\n",
    "print(len(visited))"
   ]
  },
  {
   "cell_type": "code",
   "execution_count": 4,
   "id": "a0b307fe",
   "metadata": {},
   "outputs": [],
   "source": [
    "def display_map(map):\n",
    "    min_x = min(p[0] for p in map)\n",
    "    max_x = max(p[0] for p in map)\n",
    "    min_y = min(p[1] for p in map)\n",
    "    max_y = max(p[1] for p in map)\n",
    "\n",
    "    for y in range(min_y, max_y + 1):\n",
    "        for x in range(min_x, max_x + 1):\n",
    "            print('█' if map[(x, y)] else ' ', end='')\n",
    "        print()"
   ]
  },
  {
   "cell_type": "code",
   "execution_count": 5,
   "id": "1c95ebd4",
   "metadata": {},
   "outputs": [
    {
     "name": "stdout",
     "output_type": "stream",
     "text": [
      "Part 2:\n",
      "\n",
      "   ██ ████ █    ████ ████  ██  █  █ ███    \n",
      "    █ █    █    █    █    █  █ █  █ █  █   \n",
      "    █ ███  █    ███  ███  █    ████ █  █   \n",
      "    █ █    █    █    █    █ ██ █  █ ███    \n",
      " █  █ █    █    █    █    █  █ █  █ █      \n",
      "  ██  ████ ████ ████ █     ███ █  █ █      \n"
     ]
    }
   ],
   "source": [
    "map, visited = process_intcode(intcode, start_white=True)\n",
    "print(\"Part 2:\")\n",
    "print()\n",
    "display_map(map)"
   ]
  }
 ],
 "metadata": {
  "kernelspec": {
   "display_name": "Python 3",
   "language": "python",
   "name": "python3"
  },
  "language_info": {
   "codemirror_mode": {
    "name": "ipython",
    "version": 3
   },
   "file_extension": ".py",
   "mimetype": "text/x-python",
   "name": "python",
   "nbconvert_exporter": "python",
   "pygments_lexer": "ipython3",
   "version": "3.10.0"
  }
 },
 "nbformat": 4,
 "nbformat_minor": 5
}
