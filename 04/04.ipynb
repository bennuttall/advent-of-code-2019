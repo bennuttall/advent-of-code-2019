{
 "cells": [
  {
   "cell_type": "code",
   "execution_count": 10,
   "metadata": {},
   "outputs": [],
   "source": [
    "from itertools import tee\n",
    "\n",
    "def pairwise(iterable):\n",
    "    \"s -> (s0,s1), (s1,s2), (s2, s3), ...\"\n",
    "    a, b = tee(iterable)\n",
    "    next(b, None)\n",
    "    return zip(a, b)\n",
    "\n",
    "def has_adjacent_digits(n):\n",
    "    adjacent_digits = {'00', '11', '22', '33', '44', '55', '66', '77', '88', '99'}\n",
    "    return any(dd in n for dd in adjacent_digits)\n",
    "    \n",
    "def digits_never_decrease(n):\n",
    "    for a, b in pairwise(n):\n",
    "        if int(a) > int(b):\n",
    "            return False\n",
    "    return True\n",
    "\n",
    "assert has_adjacent_digits('111111')\n",
    "assert digits_never_decrease('111111')\n",
    "\n",
    "assert has_adjacent_digits('223450')\n",
    "assert not digits_never_decrease('223450')\n",
    "\n",
    "assert not has_adjacent_digits('123789')\n",
    "assert digits_never_decrease('123789')"
   ]
  },
  {
   "cell_type": "code",
   "execution_count": 12,
   "metadata": {},
   "outputs": [
    {
     "name": "stdout",
     "output_type": "stream",
     "text": [
      "part 1:\n"
     ]
    },
    {
     "data": {
      "text/plain": [
       "1099"
      ]
     },
     "execution_count": 12,
     "metadata": {},
     "output_type": "execute_result"
    }
   ],
   "source": [
    "def is_valid_password(n):\n",
    "    p = str(n)\n",
    "    return has_adjacent_digits(p) and digits_never_decrease(p)\n",
    "\n",
    "password_range = range(245182, 790572 + 1)\n",
    "\n",
    "print(\"part 1:\")\n",
    "passwords = set()\n",
    "for password in password_range:\n",
    "    if is_valid_password(password):\n",
    "        passwords.add(password)\n",
    "\n",
    "len(passwords)"
   ]
  },
  {
   "cell_type": "code",
   "execution_count": 52,
   "metadata": {},
   "outputs": [],
   "source": [
    "def new_rule(n):\n",
    "    repeated = [i*n for i in range(6, 2, -1) for n in '0123456789']\n",
    "    for r in repeated:\n",
    "        n = n.replace(r, 'X')\n",
    "    return has_adjacent_digits(n)\n",
    "    \n",
    "assert new_rule('112233')\n",
    "assert not new_rule('123444')\n",
    "assert new_rule('111122')\n",
    "\n",
    "assert not new_rule('111234')\n",
    "assert new_rule('111233')\n",
    "\n",
    "assert not new_rule('111111')\n",
    "assert not new_rule('122221')"
   ]
  },
  {
   "cell_type": "code",
   "execution_count": 56,
   "metadata": {},
   "outputs": [
    {
     "name": "stdout",
     "output_type": "stream",
     "text": [
      "part 2:\n"
     ]
    },
    {
     "data": {
      "text/plain": [
       "709"
      ]
     },
     "execution_count": 56,
     "metadata": {},
     "output_type": "execute_result"
    }
   ],
   "source": [
    "new_passwords = set()\n",
    "for password in passwords:\n",
    "    if new_rule(str(password)):\n",
    "        new_passwords.add(password)\n",
    "\n",
    "print(\"part 2:\")\n",
    "len(new_passwords)"
   ]
  },
  {
   "cell_type": "code",
   "execution_count": null,
   "metadata": {},
   "outputs": [],
   "source": []
  }
 ],
 "metadata": {
  "kernelspec": {
   "display_name": "Python 3",
   "language": "python",
   "name": "python3"
  },
  "language_info": {
   "codemirror_mode": {
    "name": "ipython",
    "version": 3
   },
   "file_extension": ".py",
   "mimetype": "text/x-python",
   "name": "python",
   "nbconvert_exporter": "python",
   "pygments_lexer": "ipython3",
   "version": "3.8.0"
  }
 },
 "nbformat": 4,
 "nbformat_minor": 2
}
