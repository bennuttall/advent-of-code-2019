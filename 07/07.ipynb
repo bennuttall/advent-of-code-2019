{
 "cells": [
  {
   "cell_type": "code",
   "execution_count": 1,
   "metadata": {},
   "outputs": [],
   "source": [
    "def process_intcode(data, input_values):\n",
    "    input_values = (i for i in input_values)\n",
    "    i = 0\n",
    "    while True:\n",
    "        initial = str(data[i]).rjust(5, '0')\n",
    "        a, b, c, *opcode = initial\n",
    "        opcode = int(''.join(opcode))\n",
    "        assert opcode in (1, 2, 3, 4, 5, 6, 7, 8, 99), opcode\n",
    "        if opcode == 99:\n",
    "            return\n",
    "        p1 = i+1 if c == '1' else data[i+1]\n",
    "        p2 = i+2 if b == '1' else data[i+2]\n",
    "        try:\n",
    "            p3 = i+3 if a == '1' else data[i+3]\n",
    "        except IndexError:\n",
    "            p3 = None\n",
    "        if opcode == 1:\n",
    "            data[p3] = data[p1] + data[p2]\n",
    "            i += 4\n",
    "        elif opcode == 2:\n",
    "            data[p3] = data[p1] * data[p2]\n",
    "            i += 4\n",
    "        elif opcode == 3:\n",
    "            data[p1] = next(input_values)\n",
    "            i += 2\n",
    "        elif opcode == 4:\n",
    "            return data[p1]\n",
    "            i += 2\n",
    "        elif opcode == 5:\n",
    "            if data[p1] != 0:\n",
    "                i = data[p2]\n",
    "            else:\n",
    "                i += 3\n",
    "        elif opcode == 6:\n",
    "            if data[p1] == 0:\n",
    "                i = data[p2]\n",
    "            else:\n",
    "                i += 3\n",
    "        elif opcode == 7:\n",
    "            data[p3] = 1 if data[p1] < data[p2] else 0\n",
    "            i += 4\n",
    "        elif opcode == 8:\n",
    "            data[p3] = 1 if data[p1] == data[p2] else 0\n",
    "            i += 4"
   ]
  },
  {
   "cell_type": "code",
   "execution_count": 2,
   "metadata": {},
   "outputs": [],
   "source": [
    "from itertools import permutations\n",
    "\n",
    "def calc_signal(intcode, settings):\n",
    "    this_intcode = intcode.copy()\n",
    "    output = 0\n",
    "    for setting in settings:\n",
    "        input_values = [setting, output]\n",
    "        output = process_intcode(this_intcode, input_values)\n",
    "    return output\n",
    "\n",
    "def calc_max_signal(intcode):\n",
    "    signals = {\n",
    "        settings: calc_signal(intcode, settings)\n",
    "        for settings in permutations(range(5), 5)\n",
    "    }\n",
    "    max_signal_settings = max(signals, key=signals.get)\n",
    "    return (max_signal_settings, signals[max_signal_settings])\n",
    "\n",
    "sample_intcode = [3,15,3,16,1002,16,10,16,1,16,15,15,4,15,99,0,0]\n",
    "assert (r := calc_max_signal(sample_intcode)) == ((4,3,2,1,0), 43210), r\n",
    "sample_intcode = [3,23,3,24,1002,24,10,24,1002,23,-1,23,101,5,23,23,1,24,23,23,4,23,99,0,0]\n",
    "assert (r := calc_max_signal(sample_intcode)) == ((0,1,2,3,4), 54321), r\n",
    "sample_intcode = [3,31,3,32,1002,32,10,32,1001,31,-2,31,1007,31,0,33,1002,33,7,33,1,33,31,31,1,32,31,31,4,31,99,0,0,0]\n",
    "assert (r := calc_max_signal(sample_intcode)) == ((1,0,4,3,2), 65210), r"
   ]
  },
  {
   "cell_type": "code",
   "execution_count": 3,
   "metadata": {},
   "outputs": [],
   "source": [
    "with open('input') as f:\n",
    "    intcode = [int(d) for d in f.read().split(',')]"
   ]
  },
  {
   "cell_type": "code",
   "execution_count": 4,
   "metadata": {},
   "outputs": [
    {
     "name": "stdout",
     "output_type": "stream",
     "text": [
      "Part 1:\n"
     ]
    },
    {
     "data": {
      "text/plain": [
       "65464"
      ]
     },
     "execution_count": 4,
     "metadata": {},
     "output_type": "execute_result"
    }
   ],
   "source": [
    "print(\"Part 1:\")\n",
    "calc_max_signal(intcode)[1]"
   ]
  },
  {
   "cell_type": "code",
   "execution_count": 5,
   "metadata": {},
   "outputs": [],
   "source": [
    "class Amplifier:\n",
    "    def __init__(self, intcode, setting, initial_input=None, name=None):\n",
    "        self.name = name\n",
    "        self.intcode = intcode.copy()\n",
    "        self.setting = setting\n",
    "        if initial_input is None:\n",
    "            self._input_values = [setting]\n",
    "        else:\n",
    "            self._input_values = [setting, initial_input]\n",
    "        self.next_amplifier = None\n",
    "        self._last_output_value = None\n",
    "        self.i = 0\n",
    "        self.halted = False\n",
    "    \n",
    "    @property\n",
    "    def input(self):\n",
    "        value = self._input_values.pop(0)\n",
    "        return value\n",
    "    \n",
    "    @input.setter\n",
    "    def input(self, value):\n",
    "        self._input_values.append(value)\n",
    "    \n",
    "    @property\n",
    "    def output(self):\n",
    "        return self._last_output_value\n",
    "    \n",
    "    @output.setter\n",
    "    def output(self, value):\n",
    "        self._last_output_value = value\n",
    "        self.next_amplifier.input = value\n",
    "            \n",
    "    def compute(self):\n",
    "        while True:\n",
    "            initial = str(self.intcode[self.i]).rjust(5, '0')\n",
    "            a, b, c, *opcode = initial\n",
    "            opcode = int(''.join(opcode))\n",
    "            assert opcode in (1, 2, 3, 4, 5, 6, 7, 8, 99), opcode\n",
    "            if opcode == 99:\n",
    "                self.halted = True\n",
    "                if not self.next_amplifier.halted:\n",
    "                    return self.next_amplifier.compute()\n",
    "                return\n",
    "            p1 = self.i+1 if c == '1' else self.intcode[self.i+1]\n",
    "            p2 = self.i+2 if b == '1' else self.intcode[self.i+2]\n",
    "            try:\n",
    "                p3 = self.i+3 if a == '1' else self.intcode[self.i+3]\n",
    "            except IndexError:\n",
    "                p3 = None\n",
    "            if opcode == 1:\n",
    "                self.intcode[p3] = self.intcode[p1] + self.intcode[p2]\n",
    "                self.i += 4\n",
    "            elif opcode == 2:\n",
    "                self.intcode[p3] = self.intcode[p1] * self.intcode[p2]\n",
    "                self.i += 4\n",
    "            elif opcode == 3:\n",
    "                try:\n",
    "                    self.intcode[p1] = self.input\n",
    "                    self.i += 2\n",
    "                except IndexError:\n",
    "                    return self.next_amplifier.compute()\n",
    "            elif opcode == 4:\n",
    "                self.output = self.intcode[p1]\n",
    "                self.i += 2\n",
    "                return self.next_amplifier.compute()\n",
    "            elif opcode == 5:\n",
    "                if self.intcode[p1] != 0:\n",
    "                    self.i = self.intcode[p2]\n",
    "                else:\n",
    "                    self.i += 3\n",
    "            elif opcode == 6:\n",
    "                if self.intcode[p1] == 0:\n",
    "                    self.i = self.intcode[p2]\n",
    "                else:\n",
    "                    self.i += 3\n",
    "            elif opcode == 7:\n",
    "                self.intcode[p3] = 1 if self.intcode[p1] < self.intcode[p2] else 0\n",
    "                self.i += 4\n",
    "            elif opcode == 8:\n",
    "                self.intcode[p3] = 1 if self.intcode[p1] == self.intcode[p2] else 0\n",
    "                self.i += 4\n",
    "    \n",
    "test_intcode = [3,26,1001,26,-4,26,3,27,1002,27,2,27,1,27,26,27,4,27,1001,28,-1,28,1005,28,6,99,0,0,5]\n",
    "A = Amplifier(name='A', intcode=test_intcode, setting=9, initial_input=0)\n",
    "B = Amplifier(name='B', intcode=test_intcode, setting=8)\n",
    "C = Amplifier(name='C', intcode=test_intcode, setting=7)\n",
    "D = Amplifier(name='D', intcode=test_intcode, setting=6)\n",
    "E = Amplifier(name='E', intcode=test_intcode, setting=5)\n",
    "\n",
    "A.next_amplifier = B\n",
    "B.next_amplifier = C\n",
    "C.next_amplifier = D\n",
    "D.next_amplifier = E\n",
    "E.next_amplifier = A\n",
    "\n",
    "A.compute()\n",
    "assert E.output == 139629729"
   ]
  },
  {
   "cell_type": "code",
   "execution_count": 6,
   "metadata": {},
   "outputs": [],
   "source": [
    "def calc_signal_2(intcode, settings):\n",
    "    amp_settings = [[s, None] for s in settings]\n",
    "    amp_settings[0][1] = 0\n",
    "    amps = [\n",
    "        Amplifier(intcode=intcode, setting=s, initial_input=ii)\n",
    "        for s, ii in amp_settings\n",
    "    ]\n",
    "    for i, amp in enumerate(amps):\n",
    "        amp.next_amplifier = amps[(i+1) % len(amps)]\n",
    "\n",
    "    amps[0].compute()\n",
    "    return amps[-1].output\n",
    "\n",
    "assert calc_signal_2(test_intcode, (9, 8, 7, 6, 5)) == 139629729"
   ]
  },
  {
   "cell_type": "code",
   "execution_count": 7,
   "metadata": {},
   "outputs": [],
   "source": [
    "def calc_max_signal_2(intcode):\n",
    "    signals = {\n",
    "        settings: calc_signal_2(intcode, settings)\n",
    "        for settings in permutations(range(5, 10), 5)\n",
    "    }\n",
    "    max_signal_settings = max(signals, key=signals.get)\n",
    "    return (max_signal_settings, signals[max_signal_settings])\n",
    "\n",
    "assert (r := calc_max_signal_2(test_intcode)) == ((9,8,7,6,5), 139629729), r\n",
    "\n",
    "test_intcode = [3,52,1001,52,-5,52,3,53,1,52,56,54,1007,54,5,55,1005,55,26,1001,54,-5,54,1105,1,12,1,53,54,53,1008,54,0,55,1001,55,1,55,2,53,55,53,4,53,1001,56,-1,56,1005,56,6,99,0,0,0,0,10]\n",
    "assert (r := calc_max_signal_2(test_intcode)) == ((9,7,8,5,6), 18216), r"
   ]
  },
  {
   "cell_type": "code",
   "execution_count": 8,
   "metadata": {},
   "outputs": [
    {
     "name": "stdout",
     "output_type": "stream",
     "text": [
      "Part 2:\n"
     ]
    },
    {
     "data": {
      "text/plain": [
       "1518124"
      ]
     },
     "execution_count": 8,
     "metadata": {},
     "output_type": "execute_result"
    }
   ],
   "source": [
    "print(\"Part 2:\")\n",
    "calc_max_signal_2(intcode)[1]"
   ]
  }
 ],
 "metadata": {
  "kernelspec": {
   "display_name": "Python 3",
   "language": "python",
   "name": "python3"
  },
  "language_info": {
   "codemirror_mode": {
    "name": "ipython",
    "version": 3
   },
   "file_extension": ".py",
   "mimetype": "text/x-python",
   "name": "python",
   "nbconvert_exporter": "python",
   "pygments_lexer": "ipython3",
   "version": "3.10.0"
  }
 },
 "nbformat": 4,
 "nbformat_minor": 2
}
