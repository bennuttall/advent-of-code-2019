{
 "cells": [
  {
   "cell_type": "code",
   "execution_count": 1,
   "metadata": {},
   "outputs": [],
   "source": [
    "from math import floor\n",
    "\n",
    "def calc_fuel(mass):\n",
    "    return max(floor(mass / 3) - 2, 0)\n",
    "\n",
    "assert calc_fuel(12) == 2\n",
    "assert calc_fuel(14) == 2\n",
    "assert calc_fuel(1969) == 654\n",
    "assert calc_fuel(100756) == 33583"
   ]
  },
  {
   "cell_type": "code",
   "execution_count": 2,
   "metadata": {},
   "outputs": [],
   "source": [
    "with open('input') as f:\n",
    "    data = [int(d) for d in f]\n",
    "\n",
    "assert data[0] == 132897"
   ]
  },
  {
   "cell_type": "code",
   "execution_count": 3,
   "metadata": {},
   "outputs": [
    {
     "name": "stdout",
     "output_type": "stream",
     "text": [
      "Part 1:\n"
     ]
    },
    {
     "data": {
      "text/plain": [
       "3397667"
      ]
     },
     "execution_count": 3,
     "metadata": {},
     "output_type": "execute_result"
    }
   ],
   "source": [
    "print(\"Part 1:\")\n",
    "sum(calc_fuel(m) for m in data)"
   ]
  },
  {
   "cell_type": "code",
   "execution_count": 4,
   "metadata": {},
   "outputs": [],
   "source": [
    "def calc_fuel_rec(mass):\n",
    "    fuel = calc_fuel(mass)\n",
    "    if fuel == 0:\n",
    "        return 0\n",
    "    return fuel + calc_fuel_rec(fuel)\n",
    "\n",
    "assert calc_fuel_rec(12) == 2\n",
    "assert calc_fuel_rec(14) == 2\n",
    "assert calc_fuel_rec(1969) == 966\n",
    "assert calc_fuel_rec(100756) == 50346"
   ]
  },
  {
   "cell_type": "code",
   "execution_count": 5,
   "metadata": {},
   "outputs": [
    {
     "name": "stdout",
     "output_type": "stream",
     "text": [
      "Part 2:\n"
     ]
    },
    {
     "data": {
      "text/plain": [
       "5093620"
      ]
     },
     "execution_count": 5,
     "metadata": {},
     "output_type": "execute_result"
    }
   ],
   "source": [
    "print(\"Part 2:\")\n",
    "sum(calc_fuel_rec(m) for m in data)"
   ]
  }
 ],
 "metadata": {
  "kernelspec": {
   "display_name": "Python 3",
   "language": "python",
   "name": "python3"
  },
  "language_info": {
   "codemirror_mode": {
    "name": "ipython",
    "version": 3
   },
   "file_extension": ".py",
   "mimetype": "text/x-python",
   "name": "python",
   "nbconvert_exporter": "python",
   "pygments_lexer": "ipython3",
   "version": "3.10.0"
  }
 },
 "nbformat": 4,
 "nbformat_minor": 2
}
