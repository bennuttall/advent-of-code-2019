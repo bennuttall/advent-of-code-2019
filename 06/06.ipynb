{
 "cells": [
  {
   "cell_type": "code",
   "execution_count": 112,
   "metadata": {},
   "outputs": [],
   "source": [
    "sample_map = \"\"\"\n",
    "COM)B\n",
    "B)C\n",
    "C)D\n",
    "D)E\n",
    "E)F\n",
    "B)G\n",
    "G)H\n",
    "D)I\n",
    "E)J\n",
    "J)K\n",
    "K)L\n",
    "\"\"\"[1:-1].split('\\n')\n",
    "\n",
    "sample_orbits = {orbit.split(')')[1]: orbit.split(')')[0] for orbit in sample_map}"
   ]
  },
  {
   "cell_type": "code",
   "execution_count": 113,
   "metadata": {},
   "outputs": [],
   "source": [
    "def count_orbits(orbits):\n",
    "    return sum(traverse_orbit(orbit, orbits) for orbit in orbits.values())\n",
    "            \n",
    "def traverse_orbit(orbit, orbits):\n",
    "    if orbit in orbits:\n",
    "        return 1 + traverse_orbit(orbits[orbit], orbits)\n",
    "    return 1\n",
    "\n",
    "assert (r := count_orbits(sample_orbits)) == 42, r"
   ]
  },
  {
   "cell_type": "code",
   "execution_count": 114,
   "metadata": {},
   "outputs": [],
   "source": [
    "with open('input') as f:\n",
    "    orbits = {\n",
    "        orbit.strip().split(')')[1]: orbit.strip().split(')')[0]\n",
    "        for orbit in f\n",
    "    }"
   ]
  },
  {
   "cell_type": "code",
   "execution_count": 115,
   "metadata": {},
   "outputs": [
    {
     "name": "stdout",
     "output_type": "stream",
     "text": [
      "part 1:\n"
     ]
    },
    {
     "data": {
      "text/plain": [
       "387356"
      ]
     },
     "execution_count": 115,
     "metadata": {},
     "output_type": "execute_result"
    }
   ],
   "source": [
    "print(\"part 1:\")\n",
    "count_orbits(orbits)"
   ]
  },
  {
   "cell_type": "code",
   "execution_count": 116,
   "metadata": {},
   "outputs": [
    {
     "data": {
      "text/plain": [
       "{'B': 'COM',\n",
       " 'C': 'B',\n",
       " 'D': 'C',\n",
       " 'E': 'D',\n",
       " 'F': 'E',\n",
       " 'G': 'B',\n",
       " 'H': 'G',\n",
       " 'I': 'D',\n",
       " 'J': 'E',\n",
       " 'K': 'J',\n",
       " 'L': 'K',\n",
       " 'YOU': 'K',\n",
       " 'SAN': 'I'}"
      ]
     },
     "execution_count": 116,
     "metadata": {},
     "output_type": "execute_result"
    }
   ],
   "source": [
    "sample_map = \"\"\"\n",
    "COM)B\n",
    "B)C\n",
    "C)D\n",
    "D)E\n",
    "E)F\n",
    "B)G\n",
    "G)H\n",
    "D)I\n",
    "E)J\n",
    "J)K\n",
    "K)L\n",
    "K)YOU\n",
    "I)SAN\n",
    "\"\"\"[1:-1].split('\\n')\n",
    "\n",
    "sample_orbits = {orbit.split(')')[1]: orbit.split(')')[0] for orbit in sample_map}\n",
    "sample_orbits"
   ]
  },
  {
   "cell_type": "code",
   "execution_count": 117,
   "metadata": {},
   "outputs": [
    {
     "data": {
      "text/plain": [
       "{'SAN': {'I'},\n",
       " 'B': {'C', 'COM', 'G'},\n",
       " 'K': {'J', 'L', 'YOU'},\n",
       " 'D': {'C', 'E', 'I'},\n",
       " 'F': {'E'},\n",
       " 'E': {'D', 'F', 'J'},\n",
       " 'H': {'G'},\n",
       " 'YOU': {'K'},\n",
       " 'G': {'B', 'H'},\n",
       " 'J': {'E', 'K'},\n",
       " 'L': {'K'},\n",
       " 'C': {'B', 'D'},\n",
       " 'COM': {'B'},\n",
       " 'I': {'D', 'SAN'}}"
      ]
     },
     "execution_count": 117,
     "metadata": {},
     "output_type": "execute_result"
    }
   ],
   "source": [
    "def create_connections(orbits):\n",
    "    all_objects = set(orbits).union(set(orbits.values()))\n",
    "\n",
    "    connections = {}\n",
    "    for o in all_objects:\n",
    "        if o in orbits:\n",
    "            connections[o] = {orbits[o]}\n",
    "        else:\n",
    "            connections[o] = set()\n",
    "        for k, v in orbits.items():\n",
    "            if v == o:\n",
    "                connections[o].add(k)\n",
    "    return connections\n",
    "\n",
    "sample_connections = create_connections(sample_orbits)\n",
    "sample_connections"
   ]
  },
  {
   "cell_type": "code",
   "execution_count": 118,
   "metadata": {},
   "outputs": [],
   "source": [
    "def find_paths(connections, a, b, path=None, successful_paths=None):\n",
    "    if successful_paths is None:\n",
    "        successful_paths = []\n",
    "    if path is None:\n",
    "        path = [a]\n",
    "    \n",
    "    # found\n",
    "    if b in connections[a]:\n",
    "        path.append(b)\n",
    "        successful_paths.append(path)\n",
    "    \n",
    "    if len(connections[a]):\n",
    "        # continue\n",
    "        for o in connections[a]:\n",
    "            if o not in path:\n",
    "                this_path = path.copy()\n",
    "                this_path.append(o)\n",
    "                paths = find_paths(connections, o, b, this_path)\n",
    "                successful_paths.extend(paths)\n",
    "                \n",
    "    return successful_paths\n",
    "\n",
    "assert (r := find_paths(sample_connections, 'COM', 'B')) == [['COM', 'B']], r\n",
    "assert (r := find_paths(sample_connections, 'COM', 'C')) == [['COM', 'B', 'C']], r\n",
    "assert (r := find_paths(sample_connections, 'COM', 'D')) == [['COM', 'B', 'C', 'D']], r\n",
    "assert (r := find_paths(sample_connections, 'COM', 'H')) == [['COM', 'B', 'G', 'H']], r\n",
    "assert (r := find_paths(sample_connections, 'YOU', 'SAN')) == [['YOU', 'K', 'J', 'E', 'D', 'I', 'SAN']], r"
   ]
  },
  {
   "cell_type": "code",
   "execution_count": 119,
   "metadata": {},
   "outputs": [],
   "source": [
    "def calc_path_len(connections, a, b):\n",
    "    paths = find_paths(connections, a, b)\n",
    "    return min(len(path) for path in paths) - 3\n",
    "\n",
    "assert (r := calc_path_len(sample_connections, 'YOU', 'SAN')) == 4, r"
   ]
  },
  {
   "cell_type": "code",
   "execution_count": 121,
   "metadata": {},
   "outputs": [
    {
     "name": "stdout",
     "output_type": "stream",
     "text": [
      "part 2:\n"
     ]
    },
    {
     "data": {
      "text/plain": [
       "532"
      ]
     },
     "execution_count": 121,
     "metadata": {},
     "output_type": "execute_result"
    }
   ],
   "source": [
    "print(\"part 2:\")\n",
    "connections = create_connections(orbits)\n",
    "calc_path_len(connections, 'YOU', 'SAN')"
   ]
  },
  {
   "cell_type": "code",
   "execution_count": null,
   "metadata": {},
   "outputs": [],
   "source": []
  }
 ],
 "metadata": {
  "kernelspec": {
   "display_name": "Python 3",
   "language": "python",
   "name": "python3"
  },
  "language_info": {
   "codemirror_mode": {
    "name": "ipython",
    "version": 3
   },
   "file_extension": ".py",
   "mimetype": "text/x-python",
   "name": "python",
   "nbconvert_exporter": "python",
   "pygments_lexer": "ipython3",
   "version": "3.8.0"
  }
 },
 "nbformat": 4,
 "nbformat_minor": 2
}
