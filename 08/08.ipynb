{
 "cells": [
  {
   "cell_type": "code",
   "execution_count": 1,
   "metadata": {},
   "outputs": [],
   "source": [
    "def convert_image_data(data, size):\n",
    "    w, h = size\n",
    "    num_layers = int(len(data) / (w * h))\n",
    "    data = (d for d in data)\n",
    "    layers = []\n",
    "    for n in range(num_layers):\n",
    "        row = []\n",
    "        for r in range(h):\n",
    "            col = []\n",
    "            for c in range(w):\n",
    "                pixel = next(data)\n",
    "                col.append(int(pixel))\n",
    "            row.append(col)\n",
    "        layers.append(row)\n",
    "    return layers\n",
    "\n",
    "assert (r := convert_image_data('123456789012', (3, 2))) == [[[1,2,3], [4,5,6]], [[7,8,9], [0,1,2]]], r"
   ]
  },
  {
   "cell_type": "code",
   "execution_count": 2,
   "metadata": {},
   "outputs": [],
   "source": [
    "with open('input') as f:\n",
    "    data = f.read().strip()"
   ]
  },
  {
   "cell_type": "code",
   "execution_count": 3,
   "metadata": {},
   "outputs": [
    {
     "name": "stdout",
     "output_type": "stream",
     "text": [
      "Part 1:\n"
     ]
    },
    {
     "data": {
      "text/plain": [
       "2520"
      ]
     },
     "execution_count": 3,
     "metadata": {},
     "output_type": "execute_result"
    }
   ],
   "source": [
    "img = convert_image_data(data, (25, 6))\n",
    "\n",
    "layers_0 = {n: 0 for n in range(len(img))}\n",
    "layers_1 = layers_0.copy()\n",
    "layers_2 = layers_0.copy()\n",
    "for n, layer in enumerate(img):\n",
    "    for row in layer:\n",
    "        for pixel in row:\n",
    "            if pixel == 0:\n",
    "                layers_0[n] += 1\n",
    "            if pixel == 1:\n",
    "                layers_1[n] += 1\n",
    "            if pixel == 2:\n",
    "                layers_2[n] += 1\n",
    "\n",
    "print(\"Part 1:\")\n",
    "layer_least_0 = min(layers_0, key=layers_0.get)\n",
    "layers_1[layer_least_0] * layers_2[layer_least_0]"
   ]
  },
  {
   "cell_type": "code",
   "execution_count": 4,
   "metadata": {},
   "outputs": [],
   "source": [
    "black = 0\n",
    "white = 1\n",
    "transparent = 2\n",
    "\n",
    "def determine_pixel(img, row, col):\n",
    "    for layer in img:\n",
    "        if (color := layer[row][col]) in (black, white):\n",
    "            return color\n",
    "    \n",
    "img = convert_image_data('0222112222120000', (2, 2))\n",
    "assert (r := determine_pixel(img, 0, 0)) == 0, r\n",
    "assert (r := determine_pixel(img, 0, 1)) == 1, r\n",
    "assert (r := determine_pixel(img, 1, 0)) == 1, r\n",
    "assert (r := determine_pixel(img, 1, 1)) == 0, r"
   ]
  },
  {
   "cell_type": "code",
   "execution_count": 5,
   "metadata": {},
   "outputs": [],
   "source": [
    "def create_image_from_data(img, size):\n",
    "    img = convert_image_data(img, size)\n",
    "    w, h = size\n",
    "    new_img = ''\n",
    "    for row in range(h):\n",
    "        for col in range(w):\n",
    "            new_img += str(determine_pixel(img, row, col))\n",
    "        new_img += '\\n'\n",
    "    return new_img[:-1]\n",
    "    \n",
    "assert (r := create_image_from_data('0222112222120000', (2, 2))) == '01\\n10', r"
   ]
  },
  {
   "cell_type": "code",
   "execution_count": 6,
   "metadata": {},
   "outputs": [
    {
     "name": "stdout",
     "output_type": "stream",
     "text": [
      "Part 2:\n",
      "\n",
      "▊    ▊▊▊▊  ▊▊    ▊▊ ▊   ▊\n",
      "▊    ▊    ▊  ▊    ▊ ▊   ▊\n",
      "▊    ▊▊▊  ▊       ▊  ▊ ▊ \n",
      "▊    ▊    ▊ ▊▊    ▊   ▊  \n",
      "▊    ▊    ▊  ▊ ▊  ▊   ▊  \n",
      "▊▊▊▊ ▊▊▊▊  ▊▊▊  ▊▊    ▊  \n"
     ]
    }
   ],
   "source": [
    "print(\"Part 2:\")\n",
    "print()\n",
    "print(create_image_from_data(data, (25, 6)).replace('1', '▊').replace('0', ' '))"
   ]
  }
 ],
 "metadata": {
  "kernelspec": {
   "display_name": "Python 3",
   "language": "python",
   "name": "python3"
  },
  "language_info": {
   "codemirror_mode": {
    "name": "ipython",
    "version": 3
   },
   "file_extension": ".py",
   "mimetype": "text/x-python",
   "name": "python",
   "nbconvert_exporter": "python",
   "pygments_lexer": "ipython3",
   "version": "3.10.0"
  }
 },
 "nbformat": 4,
 "nbformat_minor": 2
}
