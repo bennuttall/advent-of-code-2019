{
 "cells": [
  {
   "cell_type": "code",
   "execution_count": 1,
   "id": "2a772afc",
   "metadata": {},
   "outputs": [],
   "source": [
    "with open('input') as f:\n",
    "    intcode = [int(n) for n in f.read().split(',')]"
   ]
  },
  {
   "cell_type": "code",
   "execution_count": 2,
   "id": "a03a7101",
   "metadata": {},
   "outputs": [],
   "source": [
    "def process_intcode(intcode, input_values=None):\n",
    "    intcode = {i: instruction for i, instruction in enumerate(intcode)}\n",
    "    if input_values is not None:\n",
    "        driving_mode = True\n",
    "        intcode[0] = 2\n",
    "        input_values = iter(input_values)\n",
    "    else:\n",
    "        driving_mode = False\n",
    "    relative_base = 0\n",
    "    i = 0\n",
    "    grid = set()\n",
    "    start_pos = None\n",
    "    start_direction = None\n",
    "    x, y = (0, 0)\n",
    "    while True:\n",
    "        initial = str(intcode.get(i, 0)).rjust(5, '0')\n",
    "        a, b, c, *opcode = initial\n",
    "        opcode = int(''.join(opcode))\n",
    "        assert opcode in (1, 2, 3, 4, 5, 6, 7, 8, 9, 99), opcode\n",
    "        \n",
    "        if opcode == 99:\n",
    "            if driving_mode:\n",
    "                return output_value\n",
    "            return grid, start_pos, start_direction\n",
    "\n",
    "        if c == '0':\n",
    "            p1 = intcode.get(i + 1, 0)\n",
    "        elif c == '1':\n",
    "            p1 = i + 1 \n",
    "        elif c == '2':\n",
    "            p1 = intcode.get(i + 1, 0) + relative_base\n",
    "\n",
    "        if b == '0':\n",
    "            p2 = intcode.get(i + 2, 0)\n",
    "        elif b == '1':\n",
    "            p2 = i + 2\n",
    "        elif b == '2':\n",
    "            p2 = intcode.get(i + 2, 0) + relative_base\n",
    "\n",
    "        if a == '0':\n",
    "            p3 = intcode.get(i + 3, 0)\n",
    "        elif a == '1':\n",
    "            p3 = i + 3\n",
    "        elif a == '2':\n",
    "            p3 = intcode.get(i + 3, 0) + relative_base\n",
    "\n",
    "        if opcode == 1:\n",
    "            intcode[p3] = intcode.get(p1, 0) + intcode.get(p2, 0)\n",
    "            i += 4\n",
    "        elif opcode == 2:\n",
    "            intcode[p3] = intcode.get(p1, 0) * intcode.get(p2, 0)\n",
    "            i += 4\n",
    "        elif opcode == 3:\n",
    "            input_value = next(input_values)\n",
    "            intcode[p1] = input_value\n",
    "            i += 2\n",
    "        elif opcode == 4:\n",
    "            if driving_mode:\n",
    "                output_value = intcode[p1]\n",
    "            else:\n",
    "                output_value = chr(intcode.get(p1, 0))\n",
    "                if output_value == '\\n':\n",
    "                    y += 1\n",
    "                    x = 0\n",
    "                else:\n",
    "                    if output_value == '#':\n",
    "                        grid.add((x, y))\n",
    "                    elif output_value == '^':\n",
    "                        start_pos = (x, y)\n",
    "                        start_direction = output_value\n",
    "                        grid.add((x, y))\n",
    "                    x += 1\n",
    "            i += 2\n",
    "        elif opcode == 5:\n",
    "            if intcode.get(p1, 0) != 0:\n",
    "                i = intcode.get(p2, 0)\n",
    "            else:\n",
    "                i += 3\n",
    "        elif opcode == 6:\n",
    "            if intcode.get(p1, 0) == 0:\n",
    "                i = intcode.get(p2, 0)\n",
    "            else:\n",
    "                i += 3\n",
    "        elif opcode == 7:\n",
    "            intcode[p3] = 1 if intcode.get(p1, 0) < intcode.get(p2, 0) else 0\n",
    "            i += 4\n",
    "        elif opcode == 8:\n",
    "            intcode[p3] = 1 if intcode.get(p1, 0) == intcode.get(p2, 0) else 0\n",
    "            i += 4\n",
    "        elif opcode == 9:\n",
    "            relative_base += intcode.get(p1, 0)\n",
    "            i += 2"
   ]
  },
  {
   "cell_type": "code",
   "execution_count": 3,
   "id": "b9451d58",
   "metadata": {},
   "outputs": [],
   "source": [
    "def display_grid(grid, start_pos, start_direction):\n",
    "    max_x = max(p[0] for p in grid)\n",
    "    max_y = max(p[1] for p in grid)\n",
    "\n",
    "    print('   ' + ''.join(str(x)[-1] for x in range(max_x + 1)))\n",
    "    for y in range(max_y + 1):\n",
    "        print(f\"{y:2.0f}\", end=' ')\n",
    "        for x in range(max_x + 1):            \n",
    "            if (x, y) == start_pos:\n",
    "                char = start_direction\n",
    "            elif is_intersection(x, y, grid):\n",
    "                char = 'O'\n",
    "            elif (x, y) in grid:\n",
    "                char = '#'\n",
    "            else:\n",
    "                char = '.'\n",
    "            print(char, end='')\n",
    "        print()"
   ]
  },
  {
   "cell_type": "code",
   "execution_count": 4,
   "id": "a71216a8",
   "metadata": {},
   "outputs": [],
   "source": [
    "def get_neighbours(x, y):\n",
    "    return {(x, y - 1), (x, y + 1), (x - 1, y), (x + 1, y)}"
   ]
  },
  {
   "cell_type": "code",
   "execution_count": 5,
   "id": "6bf65bcc",
   "metadata": {},
   "outputs": [],
   "source": [
    "def is_intersection(x, y, grid):\n",
    "    return (x, y) in grid and all((dx, dy) in grid for dx, dy in get_neighbours(x, y))"
   ]
  },
  {
   "cell_type": "code",
   "execution_count": 6,
   "id": "8e7bda4f",
   "metadata": {},
   "outputs": [],
   "source": [
    "def get_intersections(grid):\n",
    "    return {\n",
    "        (x, y)\n",
    "        for (x, y) in grid\n",
    "        if is_intersection(x, y, grid)\n",
    "    }"
   ]
  },
  {
   "cell_type": "code",
   "execution_count": 7,
   "id": "b9d23315",
   "metadata": {},
   "outputs": [
    {
     "name": "stdout",
     "output_type": "stream",
     "text": [
      "   0123456789012345678901234567890123456789012345678\n",
      " 0 ........................................#########\n",
      " 1 ........................................#.......#\n",
      " 2 ........................................#.......#\n",
      " 3 ........................................#.......#\n",
      " 4 ......................#########.........#.......#\n",
      " 5 ......................#.......#.........#.......#\n",
      " 6 ......................#.......#.........#.......#\n",
      " 7 ......................#.......#.........#.......#\n",
      " 8 ......................#.......#.........#.......#\n",
      " 9 ......................#.......#.........#.......#\n",
      "10 ..........###########.#.......#.......##O########\n",
      "11 ..........#.........#.#.......#.......#.#........\n",
      "12 ..........#.........#.#.......########O##........\n",
      "13 ..........#.........#.#...............#..........\n",
      "14 ..........#...######O##...............#..........\n",
      "15 ..........#...#.....#.................#..........\n",
      "16 ..........#...#.....#.................#..........\n",
      "17 ..........#...#.....#.................#..........\n",
      "18 ..........#...#.....#.................#..........\n",
      "19 ..........#...#.....#.................#..........\n",
      "20 ........##O###O####.#############.....#..........\n",
      "21 ........#.#...#...#.............#.....#..........\n",
      "22 ########O##...####O#####^...####O######..........\n",
      "23 #.......#.........#.........#...#................\n",
      "24 #.......#.........#.........#...#................\n",
      "25 #.......#.........#.........#...#................\n",
      "26 #.......#.........#.........#...#................\n",
      "27 #.......#.........#.........#...#................\n",
      "28 #.......#.........#.........#...#................\n",
      "29 #.......#.........#.........#...#................\n",
      "30 #.......#.........##########O##.###########......\n",
      "31 #.......#...................#.#...........#......\n",
      "32 #########...................##O##########.#......\n",
      "33 ..............................#.........#.#......\n",
      "34 ..............................#.........#.#......\n",
      "35 ..............................#.........#.#......\n",
      "36 ..............................#.........#.#......\n",
      "37 ..............................#.........#.#......\n",
      "38 ..............................#...######O##......\n",
      "39 ..............................#.........#........\n",
      "40 ..............................###########........\n"
     ]
    }
   ],
   "source": [
    "grid, start_pos, start_direction = process_intcode(intcode)\n",
    "display_grid(grid, start_pos, start_direction)"
   ]
  },
  {
   "cell_type": "code",
   "execution_count": 8,
   "id": "2b930ed4",
   "metadata": {},
   "outputs": [
    {
     "name": "stdout",
     "output_type": "stream",
     "text": [
      "Part 1:\n",
      "6212\n"
     ]
    }
   ],
   "source": [
    "intersections = get_intersections(grid)\n",
    "print(\"Part 1:\")\n",
    "print(sum([a * b for a, b in intersections]))"
   ]
  },
  {
   "cell_type": "code",
   "execution_count": 9,
   "id": "bbf02440",
   "metadata": {},
   "outputs": [],
   "source": [
    "def look_forward(pos, direction):\n",
    "    x, y = pos\n",
    "    return {\n",
    "        '^': (x, y - 1),\n",
    "        'v': (x, y + 1),\n",
    "        '>': (x + 1, y),\n",
    "        '<': (x - 1, y),\n",
    "    }[direction]"
   ]
  },
  {
   "cell_type": "code",
   "execution_count": 10,
   "id": "2257f48c",
   "metadata": {},
   "outputs": [],
   "source": [
    "def turn(grid, pos, direction):\n",
    "    x, y = pos\n",
    "    left_pos, right_pos = {\n",
    "        '^': ((x - 1, y), (x + 1, y)),\n",
    "        'v': ((x + 1, y), (x - 1, y)),\n",
    "        '>': ((x, y - 1), (x, y + 1)),\n",
    "        '<': ((x, y + 1), (x, y - 1)),\n",
    "    }[direction]\n",
    "    if left_pos in grid:\n",
    "        new_direction = {\n",
    "            '^': '<',\n",
    "            'v': '>',\n",
    "            '>': '^',\n",
    "            '<': 'v',\n",
    "        }[direction]\n",
    "        return (left_pos, 'L', new_direction)\n",
    "    if right_pos in grid:\n",
    "        new_direction = {\n",
    "            '^': '>',\n",
    "            'v': '<',\n",
    "            '>': 'v',\n",
    "            '<': '^',\n",
    "        }[direction]\n",
    "        return (right_pos, 'R', new_direction)\n",
    "    raise ValueError()"
   ]
  },
  {
   "cell_type": "code",
   "execution_count": 11,
   "id": "39a1257a",
   "metadata": {},
   "outputs": [],
   "source": [
    "def reduce_steps(steps):\n",
    "    c = 0\n",
    "    last_step = None\n",
    "    for step in steps:\n",
    "        if step == 'F':\n",
    "            c += 1\n",
    "        else:\n",
    "            if last_step == 'F':\n",
    "                yield c\n",
    "                c = 0\n",
    "            yield step\n",
    "        last_step = step\n",
    "    yield c"
   ]
  },
  {
   "cell_type": "code",
   "execution_count": 12,
   "id": "ca4b0041",
   "metadata": {},
   "outputs": [],
   "source": [
    "def navigate(grid, start_pos, start_direction):\n",
    "    pos = start_pos\n",
    "    direction = start_direction\n",
    "    steps = []\n",
    "    visited = {pos}\n",
    "    while len(visited) < len(grid):\n",
    "        x, y = pos\n",
    "        next_pos = look_forward(pos, direction)\n",
    "        if next_pos in grid:\n",
    "            pos = next_pos\n",
    "        else:\n",
    "            pos, left_right, direction = turn(grid, pos, direction)\n",
    "            steps.append(left_right)\n",
    "        steps.append('F')\n",
    "        visited.add(pos)\n",
    "    steps = list(reduce_steps(steps))\n",
    "    assert verify_route(grid, start_pos, start_direction, steps)\n",
    "    return steps"
   ]
  },
  {
   "cell_type": "code",
   "execution_count": 13,
   "id": "f76315e5",
   "metadata": {},
   "outputs": [],
   "source": [
    "def verify_route(grid, pos, direction, steps):\n",
    "    visited = {pos}\n",
    "    for step in steps:\n",
    "        if type(step) is int:\n",
    "            for i in range(step):\n",
    "                x, y = pos\n",
    "                pos = {\n",
    "                    '^': (x, y - 1),\n",
    "                    'v': (x, y + 1),\n",
    "                    '>': (x + 1, y),\n",
    "                    '<': (x - 1, y),\n",
    "                }[direction]\n",
    "                visited.add(pos)\n",
    "        else:\n",
    "            direction = {\n",
    "                ('^', 'L'): '<',\n",
    "                ('^', 'R'): '>',\n",
    "                ('v', 'L'): '>',\n",
    "                ('v', 'R'): '<',\n",
    "                ('>', 'L'): '^',\n",
    "                ('>', 'R'): 'v',\n",
    "                ('<', 'L'): 'v',\n",
    "                ('<', 'R'): '^',\n",
    "            }[(direction, step)]\n",
    "    return visited == grid"
   ]
  },
  {
   "cell_type": "code",
   "execution_count": 14,
   "id": "e714bbac",
   "metadata": {},
   "outputs": [],
   "source": [
    "steps = navigate(grid, start_pos, start_direction)\n",
    "str_steps = ' '.join(str(s) for s in steps)\n",
    "A = 'L 10 R 8 R 8'\n",
    "B = 'L 10 L 12 R 8 R 10'\n",
    "C = 'R 10 L 12 R 10'\n",
    "M = str_steps.replace(A, 'A').replace(B, 'B').replace(C, 'C')"
   ]
  },
  {
   "cell_type": "code",
   "execution_count": 15,
   "id": "7751adf7",
   "metadata": {},
   "outputs": [],
   "source": [
    "def make_ascii_instructions(instructions):\n",
    "    ascii = []\n",
    "    instructions = instructions.replace(' ', ',')\n",
    "    for c in instructions:\n",
    "        ascii.append(ord(c))\n",
    "    assert len(ascii) <= 20, ascii\n",
    "    ascii.append(ord('\\n'))\n",
    "    return ascii"
   ]
  },
  {
   "cell_type": "code",
   "execution_count": 16,
   "id": "06892a1d",
   "metadata": {},
   "outputs": [],
   "source": [
    "input_values = (\n",
    "    make_ascii_instructions(M) +\n",
    "    make_ascii_instructions(A) +\n",
    "    make_ascii_instructions(B) +\n",
    "    make_ascii_instructions(C) + \n",
    "    make_ascii_instructions('n')\n",
    ")"
   ]
  },
  {
   "cell_type": "code",
   "execution_count": 17,
   "id": "a01659d5",
   "metadata": {},
   "outputs": [
    {
     "name": "stdout",
     "output_type": "stream",
     "text": [
      "Part 2:\n",
      "1016741\n"
     ]
    }
   ],
   "source": [
    "print(\"Part 2:\")\n",
    "print(process_intcode(intcode, input_values))"
   ]
  }
 ],
 "metadata": {
  "kernelspec": {
   "display_name": "Python 3",
   "language": "python",
   "name": "python3"
  },
  "language_info": {
   "codemirror_mode": {
    "name": "ipython",
    "version": 3
   },
   "file_extension": ".py",
   "mimetype": "text/x-python",
   "name": "python",
   "nbconvert_exporter": "python",
   "pygments_lexer": "ipython3",
   "version": "3.10.0"
  }
 },
 "nbformat": 4,
 "nbformat_minor": 5
}
